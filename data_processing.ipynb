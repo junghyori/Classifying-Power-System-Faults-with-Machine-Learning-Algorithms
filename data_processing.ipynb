{
 "cells": [
  {
   "cell_type": "code",
   "execution_count": 1,
   "metadata": {},
   "outputs": [],
   "source": [
    "from functions import *\n",
    "import numpy as np\n",
    "import pandas as pd\n",
    "import os\n",
    "from matplotlib import pyplot as plt"
   ]
  },
  {
   "cell_type": "code",
   "execution_count": null,
   "metadata": {},
   "outputs": [],
   "source": [
    "#Load csv files\n",
    "df = pd.read_csv('downloaded_datasets/power_1.csv')\n",
    "df2 = pd.read_csv('downloaded_datasets/power_2.csv')\n",
    "df3 = pd.read_csv('downloaded_datasets/power_3.csv')\n",
    "df4 = pd.read_csv('downloaded_datasets/power_4.csv')\n",
    "df5 = pd.read_csv('downloaded_datasets/power_5.csv')\n",
    "\n",
    "#Remove values that are too large/infinite\n",
    "df = df[np.isfinite(df).all(1)]\n",
    "df2 = df2[np.isfinite(df2).all(1)]\n",
    "df3 = df3[np.isfinite(df3).all(1)]\n",
    "df4 = df4[np.isfinite(df4).all(1)]\n",
    "df5 = df5[np.isfinite(df5).all(1)]\n",
    "\n",
    "#Combine dataframes into one\n",
    "df_all = df.append(df2, ignore_index = True)\n",
    "df_all = df_all.append(df3, ignore_index = True)\n",
    "df_all = df_all.append(df4, ignore_index = True)\n",
    "df_all = df_all.append(df5, ignore_index = True)\n",
    "\n",
    "#Save to new csv\n",
    "#The final line is hashed out as this file has already been saved in the submitted code folder\n",
    "df_all.to_csv('power_clean_donotuse.csv')\n",
    "os.remove('power_clean_donotuse.csv')"
   ]
  }
 ],
 "metadata": {
  "kernelspec": {
   "display_name": "Python 3",
   "language": "python",
   "name": "python3"
  },
  "language_info": {
   "codemirror_mode": {
    "name": "ipython",
    "version": 3
   },
   "file_extension": ".py",
   "mimetype": "text/x-python",
   "name": "python",
   "nbconvert_exporter": "python",
   "pygments_lexer": "ipython3",
   "version": "3.7.4"
  }
 },
 "nbformat": 4,
 "nbformat_minor": 2
}
