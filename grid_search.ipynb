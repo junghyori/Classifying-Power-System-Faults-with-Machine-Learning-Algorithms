{
 "cells": [
  {
   "cell_type": "code",
   "execution_count": null,
   "metadata": {},
   "outputs": [],
   "source": [
    "from functions import *\n",
    "import numpy as np\n",
    "import pandas as pd\n",
    "from matplotlib import pyplot as plt\n",
    "from sklearn.svm import SVC"
   ]
  },
  {
   "cell_type": "code",
   "execution_count": null,
   "metadata": {},
   "outputs": [],
   "source": [
    "#Features - all features for \n",
    "cols = ['R1-PA1:VH', 'R1-PM1:V', 'R1-PA2:VH', 'R1-PM2:V', 'R1-PA3:VH', 'R1-PM3:V', 'R1-PA4:IH', 'R1-PM4:I', 'R1-PA5:IH', 'R1-PM5:I', 'R1-PA6:IH', 'R1-PM6:I', 'R1-PA7:VH', 'R1-PM7:V', 'R1-PA8:VH', 'R1-PM8:V', 'R1-PA9:VH', 'R1-PM9:V', 'R1-PA10:IH', 'R1-PM10:I', 'R1-PA11:IH', 'R1-PM11:I', 'R1-PA12:IH', 'R1-PM12:I', 'R1:F', 'R1:DF', 'R1-PA:Z', 'R1-PA:ZH', 'R1:S', 'R2-PA1:VH', 'R2-PM1:V', 'R2-PA2:VH', 'R2-PM2:V', 'R2-PA3:VH', 'R2-PM3:V', 'R2-PA4:IH', 'R2-PM4:I', 'R2-PA5:IH', 'R2-PM5:I', 'R2-PA6:IH', 'R2-PM6:I', 'R2-PA7:VH', 'R2-PM7:V', 'R2-PA8:VH', 'R2-PM8:V', 'R2-PA9:VH', 'R2-PM9:V', 'R2-PA10:IH', 'R2-PM10:I', 'R2-PA11:IH', 'R2-PM11:I', 'R2-PA12:IH', 'R2-PM12:I', 'R2:F', 'R2:DF', 'R2-PA:Z', 'R2-PA:ZH', 'R2:S', 'R3-PA1:VH', 'R3-PM1:V', 'R3-PA2:VH', 'R3-PM2:V', 'R3-PA3:VH', 'R3-PM3:V', 'R3-PA4:IH', 'R3-PM4:I', 'R3-PA5:IH', 'R3-PM5:I', 'R3-PA6:IH', 'R3-PM6:I', 'R3-PA7:VH', 'R3-PM7:V', 'R3-PA8:VH', 'R3-PM8:V', 'R3-PA9:VH', 'R3-PM9:V', 'R3-PA10:IH', 'R3-PM10:I', 'R3-PA11:IH', 'R3-PM11:I', 'R3-PA12:IH', 'R3-PM12:I', 'R3:F', 'R3:DF', 'R3-PA:Z', 'R3-PA:ZH', 'R3:S', 'R4-PA1:VH', 'R4-PM1:V', 'R4-PA2:VH', 'R4-PM2:V', 'R4-PA3:VH', 'R4-PM3:V', 'R4-PA4:IH', 'R4-PM4:I', 'R4-PA5:IH', 'R4-PM5:I', 'R4-PA6:IH', 'R4-PM6:I', 'R4-PA7:VH', 'R4-PM7:V', 'R4-PA8:VH', 'R4-PM8:V', 'R4-PA9:VH', 'R4-PM9:V', 'R4-PA10:IH', 'R4-PM10:I', 'R4-PA11:IH', 'R4-PM11:I', 'R4-PA12:IH', 'R4-PM12:I', 'R4:F', 'R4:DF', 'R4-PA:Z', 'R4-PA:ZH', 'R4:S', 'control_panel_log1', 'control_panel_log2', 'control_panel_log3', 'control_panel_log4', 'relay1_log', 'relay2_log', 'relay3_log', 'relay4_log', 'snort_log1', 'snort_log2', 'snort_log3', 'snort_log4']\n",
    "\n",
    "#Importing data for classification using function from fomlads library, see functions.py for documentation\n",
    "inputs, targets, input_cols, classes = import_for_classification('power_clean.csv', input_cols=cols, target_col='marker')"
   ]
  },
  {
   "cell_type": "code",
   "execution_count": null,
   "metadata": {},
   "outputs": [],
   "source": [
    "#Splitting the data into train and test sets using functions from fomlads library, see functions.py for documentation\n",
    "N = inputs.shape[0]\n",
    "train_filter, test_filter = train_and_test_filter(N, 0.1)\n",
    "#The previous function creates a random filter each time. To ensure reproducibility, the following function is set \n",
    "#to use a fixed filter by default, see README for details.\n",
    "train_inputs, train_targets, test_inputs, test_targets = train_and_test_partition(inputs, targets, train_filter, test_filter)"
   ]
  },
  {
   "cell_type": "code",
   "execution_count": null,
   "metadata": {},
   "outputs": [],
   "source": [
    "#Two hyperparameters, 3 options for each, 9 combinations\n",
    "C_range = [1, 10, 100]\n",
    "gamma_range = [0.01,0.001, 0.0001]\n",
    "\n",
    "#Grid search with cross validation\n",
    "#Adapted from fomlads library\n",
    "#Documentation in functions.py\n",
    "folds = fold_train_test_filter(train_inputs, num_folds=3)\n",
    "grid_search_output = grid_search_cross_val_svm(folds, train_inputs, train_targets, C_range=C_range, gamma_range=gamma_range)"
   ]
  },
  {
   "cell_type": "code",
   "execution_count": null,
   "metadata": {},
   "outputs": [],
   "source": [
    "#Makes dictionary to organise and easily plot f1 averages\n",
    "\n",
    "dct = {}\n",
    "keys = []\n",
    "for c in C_range:\n",
    "    dct[c] = {}\n",
    "    for g in gamma_range:\n",
    "        dct[c][g] = []\n",
    "\n",
    "for c in range(len(grid_search_output)):\n",
    "    for k in dct.keys():\n",
    "        for k2 in dct[k]:\n",
    "            if grid_search_output[c][0] == k and grid_search_output[c][1] == k2:\n",
    "                dct[k][k2].append(grid_search_output[c][-1])\n",
    "\n",
    "#The following for loop averages ACROSS FOLDS for the results for each hyperparameter combination\n",
    "for k1 in dct.keys():\n",
    "    for k2 in dct[k1]:\n",
    "        dct[k1][k2] = sum(dct[k1][k2])/3"
   ]
  },
  {
   "cell_type": "code",
   "execution_count": 11,
   "metadata": {},
   "outputs": [
    {
     "data": {
      "text/plain": [
       "Text(0.5, 1.0, 'F1 scores for grid search with cross validation for SVM with rbf kernel')"
      ]
     },
     "execution_count": 11,
     "metadata": {},
     "output_type": "execute_result"
    },
    {
     "data": {
      "image/png": "[encoded data removed]",
      "text/plain": [
       "<Figure size 432x288 with 1 Axes>"
      ]
     },
     "metadata": {
      "needs_background": "light"
     },
     "output_type": "display_data"
    }
   ],
   "source": [
    "#Note that the following visualisation code is compatible only for the specified hyperparameter ranges\n",
    "#It will result in an error/erroneous figure if the hyperparameter ranges are changed\n",
    "\n",
    "xs = [[1, 0.01], [1, 0.001], [1, 0.0001],\n",
    "      [10, 0.01], [10, 0.001], [10, 0.0001],\n",
    "      [100, 0.01], [100, 0.001], [100, 0.0001]]\n",
    "xs_str = []\n",
    "for x in xs:\n",
    "    xs_str.append(str(x))\n",
    "ys = [dct[x[0]][x[1]] for x in xs]\n",
    "fig, ax = plt.subplots()\n",
    "plt.setp(ax.get_xticklabels(), rotation=30, ha='right')\n",
    "ax.bar(xs_str, ys)\n",
    "ax.set_xlabel('Hyperparameters: [C, gamma]')\n",
    "ax.set_ylabel('Macro F1 score')\n",
    "ax.set_title('F1 scores for grid search with cross validation for SVM with rbf kernel')"
   ]
  }
 ],
 "metadata": {
  "kernelspec": {
   "display_name": "Python 3 (ipykernel)",
   "language": "python",
   "name": "python3"
  },
  "language_info": {
   "codemirror_mode": {
    "name": "ipython",
    "version": 3
   },
   "file_extension": ".py",
   "mimetype": "text/x-python",
   "name": "python",
   "nbconvert_exporter": "python",
   "pygments_lexer": "ipython3",
   "version": "3.9.7"
  }
 },
 "nbformat": 4,
 "nbformat_minor": 2
}
